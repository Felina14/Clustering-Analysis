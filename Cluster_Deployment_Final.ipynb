{
 "cells": [
  {
   "cell_type": "code",
   "execution_count": 1,
   "id": "efc89779",
   "metadata": {},
   "outputs": [],
   "source": [
    "import streamlit as st\n",
    "import pandas as pd\n",
    "import numpy as np\n",
    "from sklearn.cluster import AgglomerativeClustering\n",
    "import plotly.express as px\n",
    "from sklearn.impute import KNNImputer\n",
    "from sklearn.preprocessing import StandardScaler\n",
    "from sklearn.metrics import silhouette_score\n",
    "import plotly.graph_objects as go\n",
    "from pandas.plotting import parallel_coordinates\n",
    "import matplotlib.pyplot as plt\n",
    "import seaborn as sns\n",
    "import plotly.express as px\n",
    "from sklearn.decomposition import PCA\n",
    "import scipy.cluster.hierarchy as sch\n",
    "from sklearn.metrics import silhouette_samples, silhouette_score"
   ]
  },
  {
   "cell_type": "code",
   "execution_count": 2,
   "id": "bbee4e66",
   "metadata": {},
   "outputs": [],
   "source": [
    "data = pd.read_csv(r\"C:\\Users\\my computer\\Documents\\Data Science\\Projects\\P342-Cluster\\df_imputed.csv\")  "
   ]
  },
  {
   "cell_type": "code",
   "execution_count": 3,
   "id": "38429868",
   "metadata": {},
   "outputs": [],
   "source": [
    "data=data.drop('Encoded_Countries',axis=1)"
   ]
  },
  {
   "cell_type": "code",
   "execution_count": 4,
   "id": "bd56dc01",
   "metadata": {},
   "outputs": [],
   "source": [
    "scaler=StandardScaler()\n",
    "d=scaler.fit_transform(data)"
   ]
  },
  {
   "cell_type": "code",
   "execution_count": 5,
   "id": "930e0a10",
   "metadata": {},
   "outputs": [],
   "source": [
    "df=pd.DataFrame(data=data,columns=data.columns)"
   ]
  },
  {
   "cell_type": "code",
   "execution_count": 12,
   "id": "0457f578",
   "metadata": {},
   "outputs": [],
   "source": [
    "# Sidebar for user interaction\n",
    "st.title(\"Agglomerative Clustering Model Deployment\")\n",
    "\n",
    "# Create a dictionary to store user inputs\n",
    "st.subheader(\"Enter the values\")\n",
    "user_inputs = {}\n",
    "for feature in data:\n",
    "    user_inputs[feature] = st.number_input(f\"Enter value for {feature}\")\n",
    "\n",
    "# Convert user inputs to a DataFrame\n",
    "user_df = pd.DataFrame([user_inputs],columns=data.columns)\n",
    "d1=scaler.fit_transform(user_df)\n",
    "user_dfsc=pd.DataFrame(d1,columns=data.columns)\n",
    "\n",
    "# Concatenate user input with the original dataset\n",
    "combined_df = pd.concat([df, user_dfsc], ignore_index=True)\n",
    "\n",
    "#Applying PCA \n",
    "pca = PCA(n_components=2)\n",
    "df_pca = pca.fit_transform(combined_df)\n",
    "\n",
    "# Initialize the Agglomerative Clustering model\n",
    "model = AgglomerativeClustering(n_clusters=2, metric='euclidean', linkage='complete')\n",
    "\n",
    "# Display the user-entered data in a table\n",
    "st.write(\"User-entered data:\")\n",
    "st.write(user_df)\n",
    "    \n",
    "if st.button(\"Predict\"):\n",
    "    # Fit the model to the combined data\n",
    "    model.fit_predict(combined_df)\n",
    "    # Display the number of clusters\n",
    "    st.write(\"Number of clusters:\", model.n_clusters_)\n",
    "\n",
    "    # Display the clustered data\n",
    "    st.write(\"Cluster assigned for the user entered data:\",model.labels_[-1])\n",
    "    if(model.labels_[-1]==0):\n",
    "        st.write(\"Countries in Cluster 0 exhibit higher birth rates, slightly higher business tax rates, lower CO2 emissions, more bureaucratic processes for starting businesses, lower energy usage, lower GDP, lower health expenditure per capita and as a percentage of GDP, more hours required for tax compliance, higher infant mortality rates, lower internet usage, higher lending interest rates, lower female life expectancies, lower mobile phone adoption, and generally lower population and tourism figures\")\n",
    "    elif(model.labels_[-1]==1):\n",
    "        st.write(\"Countries in Cluster 1 are characterized by lower birth rates, slightly lower business tax rates, higher CO2 emissions, simpler processes for starting businesses, higher energy usage, higher GDP, higher health expenditure per capita and as a percentage of GDP, fewer hours required for tax compliance, lower infant mortality rates, higher internet usage, lower lending interest rates, higher female life expectancies, higher mobile phone adoption, and generally higher population and tourism figures\")\n",
    "    \n",
    "    # Plot the scatter plot of the first two principal components\n",
    "    plt.figure(figsize=(8, 6))\n",
    "    plt.scatter(df_pca[:, 0], df_pca[:, 1], c=model.labels_, cmap='rainbow')\n",
    "    plt.scatter(df_pca[-1, 0], df_pca[-1, 1], c='yellow', marker='X', s=100, label=\"User Entered Data Point\")\n",
    "    plt.xlabel(\"First Principal Component\")\n",
    "    plt.ylabel(\"Second Principal Component\")\n",
    "    plt.title(\"Agglomerative Clustering - Scatter Plot using PCA(2 Components)\")\n",
    "    plt.legend()\n",
    "    st.pyplot(plt)\n",
    "   \n",
    "    # Compute summary statistics for each cluster\n",
    "    cluster_summary = pd.DataFrame()\n",
    "    for cluster_label in range(model.n_clusters_):\n",
    "        cluster_data = combined_df[model.labels_ == cluster_label]\n",
    "        cluster_mean = cluster_data.mean()\n",
    "        cluster_std = cluster_data.std()\n",
    "        cluster_summary[f\"Cluster {cluster_label} Mean\"] = cluster_mean\n",
    "        cluster_summary[f\"Cluster {cluster_label} Std\"] = cluster_std\n",
    "\n",
    "     # Display the summary statistics\n",
    "    st.write(\"Summary Statistics for Each Cluster:\")\n",
    "    st.write(cluster_summary)\n",
    "    \n",
    "    # Export and Download Options\n",
    "    if st.button(\"Export Cluster Data to CSV\"):\n",
    "        df.to_csv('cluster_data.csv', index=False)\n",
    "        st.success(\"Cluster data exported successfully!\")"
   ]
  },
  {
   "cell_type": "code",
   "execution_count": null,
   "id": "3dc2f382",
   "metadata": {},
   "outputs": [],
   "source": []
  }
 ],
 "metadata": {
  "kernelspec": {
   "display_name": "Python 3 (ipykernel)",
   "language": "python",
   "name": "python3"
  },
  "language_info": {
   "codemirror_mode": {
    "name": "ipython",
    "version": 3
   },
   "file_extension": ".py",
   "mimetype": "text/x-python",
   "name": "python",
   "nbconvert_exporter": "python",
   "pygments_lexer": "ipython3",
   "version": "3.11.5"
  }
 },
 "nbformat": 4,
 "nbformat_minor": 5
}
